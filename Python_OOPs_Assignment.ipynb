{
  "nbformat": 4,
  "nbformat_minor": 0,
  "metadata": {
    "colab": {
      "provenance": []
    },
    "kernelspec": {
      "name": "python3",
      "display_name": "Python 3"
    },
    "language_info": {
      "name": "python"
    }
  },
  "cells": [
    {
      "cell_type": "markdown",
      "source": [
        "#Python OOPs Assignment"
      ],
      "metadata": {
        "id": "u9xmZScuTAQg"
      }
    },
    {
      "cell_type": "markdown",
      "source": [
        "##Theory Questions"
      ],
      "metadata": {
        "id": "6MB_NSGbTtLN"
      }
    },
    {
      "cell_type": "markdown",
      "source": [
        "1. What is Object-Oriented Programming (OOP)?\n",
        "- object oriented programming is a interface or code that help to bundle up properties/attributes,methods in class.\n",
        "- This bundle of methods and properties can be reused by making any number of objects of that class.\n",
        "\n",
        "2. What is a class in OOP?\n",
        "- Class in OOP is a blueprint to store methods and atributes at a place which can be reused multiple times.\n",
        "-class defines structure for its instance\n",
        "\n",
        "3. What is an object in OOP?\n",
        "- Object in oop is the instance made from class through which we can acccess the properties/attributes and methods containing in the class.\n",
        "-objects have their own values for the properties defined in class\n",
        "\n",
        "4. What is the difference between abstraction and encapsulation?\n",
        "- 1. Abstraction is about hiding the unnessesory or complex things in the code and showing only intutive interface to the user.\n",
        "- specialy abstraction method and abstraction class enforces user or developer to add those methodsin subclass when class is being inherited.\n",
        "- 2. Encapsulation is the process of bunddling methods and attributes as the name suggests.\n",
        "-It have three types private,public and protected based on the level of access developer wants to give to the user.\n",
        "\n",
        "5.  What are dunder methods in Python?\n",
        "- Dunder methods are special methods in pythod and are packed by duble underscore on both the sides.They are also called as magic methods\n",
        "- The ourpose of dunder method is operator overriding,Asking required information from user when making a object of a class.\n",
        "-ex.__ add __ overloads the + operator, __ init __.\n",
        "\n",
        "6. Explain the concept of inheritance in OOP\n",
        "- Inheritance in OOP is as the name suggest copying or transfering all the data like methods and attributes present in a class to the subclass of it.\n",
        "- This can be achieved with the suntax Class Subclass_name(Class_name) ,with passing class as a parameter\n",
        "\n",
        "7. What is polymorphism in OOP?\n",
        "- Polymorphism in OOP is the behavior shown by methods.Polymorphisms means showing diferent forms.\n",
        "- Polymorphism has two types - method overloaing and method overriding.\n",
        "- method overriding takes place when the same function name has defined in the inherited subclass ,so the fuction called will be exucuted by the subclass.\n",
        "- method overloading is done within a class by defing more than two functions with the same name.and when fuction is called then that fuction executes witch have the same parameters as given when fuction i called.\n",
        "- Although python doesnt supports method overloading we can still do that by defining empty parameters in a function.\n",
        "\n",
        "8. How is encapsulation achieved in Python?\n",
        "- Encapulation is achieved by three ways - private,public and protected\n",
        "- For public the methods and attributes have to be written with simple name.\n",
        "- while in protected we have to add single underscore at the starting of names of a method or attribute.Thus now these methods can be viewed in subclass only\n",
        "- while for private one insted of single underscore just replace with double one.Now it is allowed to view and acces in the class only\n",
        "\n",
        "9. What is a constructor in Python?\n",
        "- Constructor in python is a method which gets automatically called when we make an object of a class.\n",
        "- Its purpose is the intialise object with required and mandatory data.\n",
        "- Its syntax is __ init __\n",
        "\n",
        "10. What are class and static methods in Python?\n",
        "- Class and static methods are nothing but decorators\n",
        "- Class method decorator is used to make methods in such a way so that refers to the class itself,that means this method is now being assosiated to the class.\n",
        "- class methods can change and access the data present in the class.\n",
        "- Static methods are neither assosiated to class nor instance ,its defined in the class and can be called just by Class_name.method_name().\n",
        "\n",
        "11. What is method overloading in Python?\n",
        "- Method overloading means defining multiple methods with the same name but different parameters.\n",
        "- However, Python does not support traditional method overloading like some other languages .\n",
        "- In Python, only the last defined method with the same name will be retained. Earlier ones are overwritten, irrespective of the parameters.\n",
        "\n",
        "12. What is method overriding in OOP?\n",
        "- In a inherited subclass of a parent class, when both of these have the same function name with different body then the called fuction will be executes from the subclass overriding parent class's method this phenomenon is known as method overriding.\n",
        "\n",
        "13. What is a property decorator in Python?\n",
        "- Propety Decorator in pthon which modifies the method without changing it's core code to a attribute.\n",
        "- like example when class_name.method is property decorated then we can use or call it like a property i.e, print(class_name.method) rather print(class_name.method())\n",
        "\n",
        "14. Why is polymorphism important in OOP?\n",
        "- Polymorphism plays important role by giving prioroty to a perticular method among the methods with same name based on their parameters and their origin (instance of subclass or parent class)\n",
        "\n",
        "15.  What is an abstract class in Python?\n",
        "- Abstract class in pthon is class which enforces their inherited child/subclass to add the mentioned data like attributes and methods to be again define in the subclass.\n",
        "- also it hels to hides complex data which is not required to the user\n",
        "- We use abc module for this in Python\n",
        "\n",
        "16. What are the advantages of OOP?\n",
        "- There are lot of adtavanteges of oop:\n",
        "- 1. Helps to store data at one place which can be reused multiple times\n",
        "- 2.Encapsulation helps to secure data with different security levels\n",
        "- 3.Polymorhisms enables method also operator overidding enabling different forms of the same method\n",
        "- 4.Inheritance helps making new class with inheriting the parent one so that we dont have to write all the data again in the subclass.\n",
        "\n",
        "17. What is the difference between a class variable and an instance variable?\n",
        "- class variable is assosiated to the class or simply it refers to the class while object variable refers to the object and gets associated as the data of that object.\n",
        "- The value of class method is fixed for all the objects of that class while instance variable and its value is different for different variable.\n",
        "\n",
        "18. What is multiple inheritance in Python?\n",
        "- Multiple inheritance means a class inherits from more than one parent class, e.g., class C(A, B):.\n",
        "- Ex. Grandparent class->Parent class-> Child class.\n",
        "\n",
        "19. Explain the purpose of ‘’__ str __’ and ‘__ repr __’ ‘ methods in Python\n",
        "- __ str __ is a dunder method which overides th print method when an object is printed like Print(obj) thus it prints the body defined in the __ str __ function.\n",
        "- __repr__ this is also a dunder method and when we only write object name its automatically calls __ repr __ and returns whatever written in the body hence kind of representing that object.\n",
        "\n",
        "20.  What is the significance of the ‘super()’ function in Python?\n",
        "- when we created a inherited subclass of a parent class and we wants the data getting copied into subclass as it is then we can simply do it by super().method_name/attribute_name.\n",
        "\n",
        "21.  What is the significance of the __del__ method in Python?\n",
        "- __ del __ overides the del obj method and removes the object from the memory and simultaneously returns the the message written in the function body this can be useful for tracking lifetime of the object.\n",
        "\n",
        "22. What is the difference between @staticmethod and @classmethod in Python?\n",
        "- @classmethod decorator decorats or modifies the method in the class such that it takes the first argument for referring to the class itself.And now this method gets associated to class itself and it can access and change the data inside the class\n",
        "- While @staticmethod decorates method inside the class such that it does not gets associated to neither instance nor class ,its simply their. And can be called simly by class_name.method()\n",
        "\n",
        "23. How does polymorphism work in Python with inheritance?\n",
        "- In inheritance polymorhisms specifically method overriding takes place,i.e when the method with same name is present in the parent class and child class and if this method called by the instance of the subclass then it overides the same name method of parent class.\n",
        "\n",
        "24. What is method chaining in Python OOP?\n",
        "- method chaining is calling multiple methods of a object in single line like obj.method1().method2().method3() this.\n",
        "- it works beacuse every time the method executes it creates or returns the object itself thus countinuing the chain.\n",
        "\n",
        "25. What is the purpose of the __ call __ method in Python?\n",
        "- It makes object callable like obj(), its a dunder method makes the object behave like function. when obj() gets called it overrides and gives the output present in the body of __ call __ method"
      ],
      "metadata": {
        "id": "PqMXHUVETxn1"
      }
    },
    {
      "cell_type": "markdown",
      "source": [
        "##Practical Questions"
      ],
      "metadata": {
        "id": "06AFzujQQypU"
      }
    },
    {
      "cell_type": "code",
      "source": [
        "# 1. Create a parent class Animal with a method speak() that prints a generic message. Create a child class Dog that overrides the speak() method to print \"Bark!\".\n",
        "\n",
        "class Animal:\n",
        "  def speak(self):\n",
        "    print('Generic message')\n",
        "\n",
        "class Dog(Animal):\n",
        "  def speak(self):\n",
        "    print('Bark!')\n",
        "\n",
        "o= Dog()\n",
        "o.speak()"
      ],
      "metadata": {
        "colab": {
          "base_uri": "https://localhost:8080/"
        },
        "id": "a1rEH-MXQ0Jx",
        "outputId": "84c89ee4-cf8e-4472-b4d6-50caf6464b55"
      },
      "execution_count": 1,
      "outputs": [
        {
          "output_type": "stream",
          "name": "stdout",
          "text": [
            "Bark!\n"
          ]
        }
      ]
    },
    {
      "cell_type": "code",
      "source": [
        "#2. Write a program to create an abstract class Shape with a method area(). Derive classes Circle and Rectangle from it and implement the area() method in both.\n",
        "\n",
        "import abc\n",
        "\n",
        "class Shape(abc.ABC):\n",
        "    def area(self):\n",
        "        print('This method calculates the area')\n",
        "\n",
        "class Circle(Shape):\n",
        "    def area(self,radius):\n",
        "       return (22/7)*(radius)**2\n",
        "\n",
        "class Rectangle(Shape):\n",
        "    def area(self,length,breadth):\n",
        "        return length*breadth\n",
        "\n",
        "cir=Circle()\n",
        "rect=Rectangle()\n",
        "print(cir.area(7),rect.area(5,4))"
      ],
      "metadata": {
        "colab": {
          "base_uri": "https://localhost:8080/"
        },
        "id": "IimXeSjERi6k",
        "outputId": "6d9a4910-4205-4864-cf2b-8e0c443e6cc4"
      },
      "execution_count": 2,
      "outputs": [
        {
          "output_type": "stream",
          "name": "stdout",
          "text": [
            "154.0 20\n"
          ]
        }
      ]
    },
    {
      "cell_type": "code",
      "source": [
        "# 3. Implement a multi-level inheritance scenario where a class Vehicle has an attribute type. Derive a class Car and further derive a class ElectricCar that adds a battery attribute\n",
        "\n",
        "class Vehicle:\n",
        "  Type='vechicle'\n",
        "\n",
        "class Car(Vehicle):\n",
        "  pass\n",
        "\n",
        "class ElectricCar(Car):\n",
        "  battery='yes'\n",
        "\n",
        "ElectricCar().Type"
      ],
      "metadata": {
        "colab": {
          "base_uri": "https://localhost:8080/",
          "height": 35
        },
        "id": "Y6H2_CKkUYof",
        "outputId": "30fd99c0-45e2-4e5a-e5a3-421395a0fa80"
      },
      "execution_count": 3,
      "outputs": [
        {
          "output_type": "execute_result",
          "data": {
            "text/plain": [
              "'vechicle'"
            ],
            "application/vnd.google.colaboratory.intrinsic+json": {
              "type": "string"
            }
          },
          "metadata": {},
          "execution_count": 3
        }
      ]
    },
    {
      "cell_type": "code",
      "source": [
        "# 4. Demonstrate polymorphism by creating a base class Bird with a method fly(). Create two derived classes Sparrow and Penguin that override the fly() method.\n",
        "\n",
        "class Bird:\n",
        "  def fly(self):\n",
        "    print('it generally flies')\n",
        "\n",
        "class Sparrow(Bird):\n",
        "  def fly(self):\n",
        "     print('yes it can fly')\n",
        "\n",
        "class Penguin(Bird):\n",
        "  def fly(self):\n",
        "    print('This cant fly')\n",
        "\n",
        "Penguin().fly()"
      ],
      "metadata": {
        "colab": {
          "base_uri": "https://localhost:8080/"
        },
        "id": "DxMmThRgV9L9",
        "outputId": "3c04877d-34a7-4c14-8863-8e7df4c1cc1b"
      },
      "execution_count": 4,
      "outputs": [
        {
          "output_type": "stream",
          "name": "stdout",
          "text": [
            "This cant fly\n"
          ]
        }
      ]
    },
    {
      "cell_type": "code",
      "source": [
        "# 5. Write a program to demonstrate encapsulation by creating a class BankAccount with private attributes balance and methods to deposit, withdraw, and check balance.\n",
        "\n",
        "class BankAccount:\n",
        "  def __init__(self):\n",
        "    self.__balance=0\n",
        "\n",
        "  def deposite(self,amount):\n",
        "    self.__balance+=amount\n",
        "    print('your balance now is',self.__balance)\n",
        "\n",
        "  def withdraw(self,amount):\n",
        "    self.__balance-=amount\n",
        "    print('your balance now is',self.__balance)\n",
        "\n",
        "  def check_balance(self):\n",
        "    print('your balance is',self.__balance)\n",
        "\n",
        "\n",
        "swaraj=BankAccount()\n",
        "print(swaraj._BankAccount__balance)\n",
        "swaraj.deposite(1000)\n",
        "swaraj.withdraw(600)\n",
        "swaraj.check_balance()"
      ],
      "metadata": {
        "colab": {
          "base_uri": "https://localhost:8080/"
        },
        "id": "YzvzdOqlXhny",
        "outputId": "fbd375c0-e8e2-4cd0-e0c7-0338c70c1a52"
      },
      "execution_count": 5,
      "outputs": [
        {
          "output_type": "stream",
          "name": "stdout",
          "text": [
            "0\n",
            "your balance now is 1000\n",
            "your balance now is 400\n",
            "your balance is 400\n"
          ]
        }
      ]
    },
    {
      "cell_type": "code",
      "source": [
        "# 6. Demonstrate runtime polymorphism using a method play() in a base class Instrument. Derive classes Guitar and Piano that implement their own version of play().\n",
        "\n",
        "class Instrument:\n",
        "  def play(self):\n",
        "    'this thing is playable'\n",
        "    pass\n",
        "\n",
        "class Guitar(Instrument):\n",
        "  def play(self):\n",
        "    print('You are playing guitar')\n",
        "\n",
        "class Piano(Instrument):\n",
        "  def play(self):\n",
        "    print('You are playing piano')\n",
        "\n",
        "P=Piano()\n",
        "P.play()"
      ],
      "metadata": {
        "colab": {
          "base_uri": "https://localhost:8080/"
        },
        "id": "Ad5O9o5KZjUC",
        "outputId": "4363c2f6-0767-4951-bcb9-d380f6c510c2"
      },
      "execution_count": 6,
      "outputs": [
        {
          "output_type": "stream",
          "name": "stdout",
          "text": [
            "You are playing piano\n"
          ]
        }
      ]
    },
    {
      "cell_type": "code",
      "source": [
        "# 7. Create a class MathOperations with a class method add_numbers() to add two numbers and a static method subtract_numbers() to subtract two numbers.\n",
        "\n",
        "class MathOperations:\n",
        "  @classmethod\n",
        "  def add_numbers(cls,a,b):\n",
        "    return a+b\n",
        "\n",
        "  @staticmethod\n",
        "  def subtract_numbers(a,b):\n",
        "    return a-b\n",
        "\n",
        "print(MathOperations.add_numbers(7,3))\n",
        "MathOperations.subtract_numbers(7,3)"
      ],
      "metadata": {
        "colab": {
          "base_uri": "https://localhost:8080/"
        },
        "id": "PYz8wlD8piBF",
        "outputId": "3c335489-c9c2-4663-8ea8-87794e63691e"
      },
      "execution_count": 7,
      "outputs": [
        {
          "output_type": "stream",
          "name": "stdout",
          "text": [
            "10\n"
          ]
        },
        {
          "output_type": "execute_result",
          "data": {
            "text/plain": [
              "4"
            ]
          },
          "metadata": {},
          "execution_count": 7
        }
      ]
    },
    {
      "cell_type": "code",
      "source": [
        "# 8. Implement a class Person with a class method to count the total number of persons created\n",
        "\n",
        "class Person:\n",
        "  num=0\n",
        "\n",
        "  def __init__(self):\n",
        "    Person.num+=1\n",
        "\n",
        "p1=Person()\n",
        "p2=Person()\n",
        "Person.num"
      ],
      "metadata": {
        "colab": {
          "base_uri": "https://localhost:8080/"
        },
        "id": "vj91M7uyqq6V",
        "outputId": "695d66a4-b387-4590-ba95-ced1b26ec578"
      },
      "execution_count": 8,
      "outputs": [
        {
          "output_type": "execute_result",
          "data": {
            "text/plain": [
              "2"
            ]
          },
          "metadata": {},
          "execution_count": 8
        }
      ]
    },
    {
      "cell_type": "code",
      "source": [
        "# 9. Write a class Fraction with attributes numerator and denominator. Override the str method to display the fraction as \"numerator/denominator\".\n",
        "\n",
        "class Fraction:\n",
        "  def __init__(self,numerator,denominator):\n",
        "    self.numerator=numerator\n",
        "    self.denominator=denominator\n",
        "\n",
        "  def __str__(self):\n",
        "    return f'{self.numerator}/{self.denominator}'\n",
        "\n",
        "obj=Fraction(7,2)\n",
        "print(obj)"
      ],
      "metadata": {
        "colab": {
          "base_uri": "https://localhost:8080/"
        },
        "id": "2Ii4QD8CsjIf",
        "outputId": "c6ef3dfc-d039-43ac-c323-83dcdd0638f7"
      },
      "execution_count": 9,
      "outputs": [
        {
          "output_type": "stream",
          "name": "stdout",
          "text": [
            "7/2\n"
          ]
        }
      ]
    },
    {
      "cell_type": "code",
      "source": [
        "# 10. Demonstrate operator overloading by creating a class Vector and overriding the add method to add two vectors.\n",
        "\n",
        "class Vector:\n",
        "  def __init__(self,x_compo,y_compo):\n",
        "    self.x_compo=x_compo\n",
        "    self.y_compo=y_compo\n",
        "\n",
        "  def __add__(self,vect):\n",
        "    return Vector(self.x_compo+vect.x_compo,self.y_compo+vect.y_compo)\n",
        "\n",
        "  def __str__(self):\n",
        "        return f\"{self.x_compo}i + {self.y_compo}j\"\n",
        "\n",
        "vect1=Vector(2,3)\n",
        "vect2=Vector(3,4)\n",
        "print(vect1+vect2)"
      ],
      "metadata": {
        "colab": {
          "base_uri": "https://localhost:8080/"
        },
        "id": "zDTVCrVVvf4b",
        "outputId": "b4963794-2300-43d2-bc5e-481432e75ca0"
      },
      "execution_count": 10,
      "outputs": [
        {
          "output_type": "stream",
          "name": "stdout",
          "text": [
            "5i + 7j\n"
          ]
        }
      ]
    },
    {
      "cell_type": "code",
      "source": [
        "# 11. Create a class Person with attributes name and age. Add a method greet() that prints \"Hello, my name is {name} and I am {age} years old.\"\n",
        "\n",
        "class Person:\n",
        "  def __init__(self,name,age):\n",
        "    self.name=name\n",
        "    self.age=age\n",
        "\n",
        "  def greet(self):\n",
        "    print(f'Hello, my name is {self.name} and I am {self.age} years old.')\n",
        "\n",
        "p1=Person('Swaraj',20)\n",
        "p1.greet()"
      ],
      "metadata": {
        "colab": {
          "base_uri": "https://localhost:8080/"
        },
        "id": "7CpWrJr2zGnd",
        "outputId": "a69e9e7e-8d0a-4946-9401-43fd3473500b"
      },
      "execution_count": 11,
      "outputs": [
        {
          "output_type": "stream",
          "name": "stdout",
          "text": [
            "Hello, my name is Swaraj and I am 20 years old.\n"
          ]
        }
      ]
    },
    {
      "cell_type": "code",
      "source": [
        "# 12. Implement a class Student with attributes name and grades. Create a method average_grade() to compute the average of the grades\n",
        "\n",
        "class Student:\n",
        "  def __init__(self,name,*grades):\n",
        "    self.name=name\n",
        "    self.grades=grades\n",
        "\n",
        "  def average_grade(self):\n",
        "    return sum(self.grades)/len(self.grades)\n",
        "\n",
        "std1=Student('Swaraj',9,10,10,9.5,8.5)\n",
        "std1.average_grade()"
      ],
      "metadata": {
        "colab": {
          "base_uri": "https://localhost:8080/"
        },
        "id": "z3KcNLi01mQX",
        "outputId": "840f7189-dd09-41d6-9604-f4188b31c028"
      },
      "execution_count": 12,
      "outputs": [
        {
          "output_type": "execute_result",
          "data": {
            "text/plain": [
              "9.4"
            ]
          },
          "metadata": {},
          "execution_count": 12
        }
      ]
    },
    {
      "cell_type": "code",
      "source": [
        "# 13. Create a class Rectangle with methods set_dimensions() to set the dimensions and area() to calculate the area.\n",
        "\n",
        "class Rectangle:\n",
        "  def __init__(self):\n",
        "    self.length=0\n",
        "    self.breadth=0\n",
        "\n",
        "  def set_dimensions(self,length,breadth):\n",
        "    self.length=length\n",
        "    self.breadth=breadth\n",
        "\n",
        "  def area(self):\n",
        "    return self.length*self.breadth\n",
        "\n",
        "r1=Rectangle()\n",
        "r1.set_dimensions(5,4)\n",
        "r1.area()"
      ],
      "metadata": {
        "colab": {
          "base_uri": "https://localhost:8080/"
        },
        "id": "MMO4q04E3CpV",
        "outputId": "b5f1d03f-c402-415d-bc0c-8dbf2decef95"
      },
      "execution_count": 13,
      "outputs": [
        {
          "output_type": "execute_result",
          "data": {
            "text/plain": [
              "20"
            ]
          },
          "metadata": {},
          "execution_count": 13
        }
      ]
    },
    {
      "cell_type": "code",
      "source": [
        "# 14. Create a class Employee with a method calculate_salary() that computes the salary based on hours worked and hourly rate. Create a derived class Manager that adds a bonus to the salary.\n",
        "\n",
        "class Employee:\n",
        "  def __init__(self,hrs,hr_rate):\n",
        "    self.hrs=hrs\n",
        "    self.hr_rate=hr_rate\n",
        "\n",
        "  def calculate_salary(self):\n",
        "    return self.hrs*self.hr_rate\n",
        "\n",
        "class Manager(Employee):\n",
        "  def __init__(self,hrs,hr_rate,bonus):\n",
        "    super().__init__(hrs,hr_rate)\n",
        "    self.bonus=bonus\n",
        "\n",
        "  def calculate_salary(self):\n",
        "    return self.hrs*self.hr_rate+self.bonus\n",
        "\n",
        "emp = Employee(40, 100)\n",
        "print(\"Employee salary:\", emp.calculate_salary())\n",
        "\n",
        "mgr = Manager(40, 100, 2000)\n",
        "print(\"Manager salary:\", mgr.calculate_salary())"
      ],
      "metadata": {
        "colab": {
          "base_uri": "https://localhost:8080/"
        },
        "id": "X32T0zw94XzB",
        "outputId": "3449d5b0-3b46-4df8-f54a-7fbeff851bf6"
      },
      "execution_count": 14,
      "outputs": [
        {
          "output_type": "stream",
          "name": "stdout",
          "text": [
            "Employee salary: 4000\n",
            "Manager salary: 6000\n"
          ]
        }
      ]
    },
    {
      "cell_type": "code",
      "source": [
        "# 15. Create a class Product with attributes name, price, and quantity. Implement a method total_price() that calculates the total price of the product.\n",
        "\n",
        "class Product:\n",
        "  def __init__(self,name,price,quantity):\n",
        "    self.name=name\n",
        "    self.price=price\n",
        "    self.quantity=quantity\n",
        "\n",
        "  def total_price(self):\n",
        "    return self.price*self.quantity\n",
        "\n",
        "salt=Product('salt',13,10)\n",
        "salt.total_price()"
      ],
      "metadata": {
        "colab": {
          "base_uri": "https://localhost:8080/"
        },
        "id": "OtdlxfYOZMQY",
        "outputId": "9ba6494d-f2e1-45a2-b5ec-f8cb14ff4cfc"
      },
      "execution_count": 15,
      "outputs": [
        {
          "output_type": "execute_result",
          "data": {
            "text/plain": [
              "130"
            ]
          },
          "metadata": {},
          "execution_count": 15
        }
      ]
    },
    {
      "cell_type": "code",
      "source": [
        "# 16. Create a class Animal with an abstract method sound(). Create two derived classes Cow and Sheep that implement the sound() method.\n",
        "\n",
        "import abc\n",
        "class Animal(abc.ABC):\n",
        "  @abc.abstractmethod\n",
        "  def sound(self):\n",
        "    pass\n",
        "\n",
        "class Cow(Animal):\n",
        "  def sound(self):\n",
        "    print('bho bho!')\n",
        "\n",
        "class Sheep(Animal):\n",
        "  def sound(self):\n",
        "    print('me me!')\n",
        "\n",
        "Sheep().sound()"
      ],
      "metadata": {
        "colab": {
          "base_uri": "https://localhost:8080/"
        },
        "id": "nf9NWwJ3bteZ",
        "outputId": "d750516d-38c0-481f-9016-98eb8bcde07e"
      },
      "execution_count": 16,
      "outputs": [
        {
          "output_type": "stream",
          "name": "stdout",
          "text": [
            "me me!\n"
          ]
        }
      ]
    },
    {
      "cell_type": "code",
      "source": [
        "# 17. Create a class Book with attributes title, author, and year_published. Add a method get_book_info() that returns a formatted string with the book's details.\n",
        "\n",
        "class Book:\n",
        "  def __init__(self,title,author,year_published):\n",
        "    self.title=title\n",
        "    self.author=author\n",
        "    self.year_published=year_published\n",
        "\n",
        "  def get_book_info(self):\n",
        "    print(f'The book title is {self.title} , The author is {self.author}, and year of publication is {self.year_published}')\n",
        "\n",
        "Book('Wings of fire','Dr. APJ. Abdul Kalam','1999.').get_book_info()"
      ],
      "metadata": {
        "colab": {
          "base_uri": "https://localhost:8080/"
        },
        "id": "6byHinzCcszo",
        "outputId": "088ddccb-6a4e-4fa0-df4e-2d8704185a96"
      },
      "execution_count": 17,
      "outputs": [
        {
          "output_type": "stream",
          "name": "stdout",
          "text": [
            "The book title is Wings of fire , The author is Dr. APJ. Abdul Kalam, and year of publication is 1999.\n"
          ]
        }
      ]
    },
    {
      "cell_type": "code",
      "source": [
        "# 18. Create a class House with attributes address and price. Create a derived class Mansion that adds an attribute number_of_rooms.\n",
        "\n",
        "class House:\n",
        "  def __init__(self,address,price):\n",
        "    self.address=address\n",
        "    self.price=price\n",
        "\n",
        "class Mansion(House):\n",
        "  def __init__(self,address,price,number_of_rooms):\n",
        "    super().__init__(address,price)\n",
        "    self.number_of_rooms=number_of_rooms\n"
      ],
      "metadata": {
        "id": "tXMGAcyxfF_j"
      },
      "execution_count": 18,
      "outputs": []
    }
  ]
}