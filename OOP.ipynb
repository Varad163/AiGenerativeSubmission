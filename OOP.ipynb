{
  "nbformat": 4,
  "nbformat_minor": 0,
  "metadata": {
    "colab": {
      "provenance": []
    },
    "kernelspec": {
      "name": "python3",
      "display_name": "Python 3"
    },
    "language_info": {
      "name": "python"
    }
  },
  "cells": [
    {
      "cell_type": "markdown",
      "source": [
        "**1. What is the difference between interpreted and compiled languages?**"
      ],
      "metadata": {
        "id": "rkokLo2SNJxL"
      }
    },
    {
      "cell_type": "markdown",
      "source": [
        "->Interpreted languages are executed line by line by an interpreter, which translates and runs the code at the same time. This often makes them slower but more flexible.\n",
        "\n",
        "->Compiled languages are translated into machine code by a compiler before they are executed. This process is typically a separate step, resulting in faster execution once compiled."
      ],
      "metadata": {
        "id": "yThhNGhcMvqE"
      }
    },
    {
      "cell_type": "markdown",
      "source": [
        "**2. What is exception handling in Python?**"
      ],
      "metadata": {
        "id": "a4Ukca0nM0uT"
      }
    },
    {
      "cell_type": "code",
      "source": [
        "->Exception handling is a mechanism in Python used to manage errors that occur during the execution of a program. It allows you to gracefully handle runtime errors, preventing the program from crashing.\n",
        "\n"
      ],
      "metadata": {
        "id": "yIT1gVPXNaHn"
      },
      "execution_count": null,
      "outputs": []
    },
    {
      "cell_type": "markdown",
      "source": [
        "**3. What is the purpose of the\n",
        "finally block in exception handling?**"
      ],
      "metadata": {
        "id": "iIvJCVSuNeHf"
      }
    },
    {
      "cell_type": "markdown",
      "source": [
        "The finally block is used to specify code that will be executed regardless of whether an exception occurs in the try block or not. It's typically used for cleanup operations, such as closing files or releasing resources."
      ],
      "metadata": {
        "id": "aND1p9ZrNn6Y"
      }
    },
    {
      "cell_type": "markdown",
      "source": [
        "**4. What is logging in Python?**"
      ],
      "metadata": {
        "id": "WG6O9HL6Nr5t"
      }
    },
    {
      "cell_type": "markdown",
      "source": [
        "->Logging is a way of recording events that happen while a program is running. It's a powerful tool for debugging and monitoring, as it provides a way to track the flow of a program and identify potential issues."
      ],
      "metadata": {
        "id": "in_pC8MON8HE"
      }
    },
    {
      "cell_type": "markdown",
      "source": [
        "**5. What is the significance of the\n",
        "__del__ method in Python?**"
      ],
      "metadata": {
        "id": "ZUc37cZDNwEq"
      }
    },
    {
      "cell_type": "markdown",
      "source": [
        "->The __del__ method, also known as the destructor, is called when an object is about to be destroyed. It can be used for cleanup tasks, like closing file connections or releasing external resources. It's important to note that Python's garbage collector handles object destruction, so __del__ isn't always called immediately when an object goes out of scope.\n",
        "\n"
      ],
      "metadata": {
        "id": "1-4rmLpkN7Nt"
      }
    },
    {
      "cell_type": "markdown",
      "source": [
        "**6. What is the difference between\n",
        "import and from... import in Python?**"
      ],
      "metadata": {
        "id": "kxtiu9xfNwcJ"
      }
    },
    {
      "cell_type": "code",
      "source": [
        "The import statement imports an entire module. You must then use the module name to access its functions or variables (e.g., math.sqrt()).\n",
        "\n",
        "The from... import statement imports specific attributes (functions, classes, or variables) from a module directly into the current namespace. This allows you to use them without the module name (e.g., sqrt()).\n",
        "\n"
      ],
      "metadata": {
        "id": "2bzZZF9ROSQx"
      },
      "execution_count": null,
      "outputs": []
    },
    {
      "cell_type": "markdown",
      "source": [
        "**7. How can you handle multiple exceptions in Python?**"
      ],
      "metadata": {
        "id": "iMco1b-dOC1h"
      }
    },
    {
      "cell_type": "markdown",
      "source": [
        "You can handle multiple exceptions by using multiple except blocks, each for a different exception type. Alternatively, you can use a single except block with a tuple of exception types to handle them all with the same code."
      ],
      "metadata": {
        "id": "VL_bWllpOLzf"
      }
    },
    {
      "cell_type": "markdown",
      "source": [
        "**8. What is the purpose of the\n",
        "with statement when handling files in Python?**"
      ],
      "metadata": {
        "id": "_N_I1a4YOmwJ"
      }
    },
    {
      "cell_type": "markdown",
      "source": [
        "The with statement is a context manager that ensures resources, like files, are properly managed. When you use with, the file is automatically closed when the block is exited, even if an error occurs. This prevents resource leaks."
      ],
      "metadata": {
        "id": "0AkA0CrjOuWY"
      }
    },
    {
      "cell_type": "markdown",
      "source": [
        "**9. What is the difference between multithreading and multiprocessing?**"
      ],
      "metadata": {
        "id": "ScO9obC8OxDj"
      }
    },
    {
      "cell_type": "markdown",
      "source": [
        "Multithreading involves multiple threads within a single process. They share the same memory space, making them suitable for I/O-bound tasks.\n",
        "\n",
        "Multiprocessing involves multiple processes, each with its own memory space. This is ideal for CPU-bound tasks as it allows for true parallel execution on multiple CPU cores."
      ],
      "metadata": {
        "id": "hO8lvV4PO1Jy"
      }
    },
    {
      "cell_type": "markdown",
      "source": [
        "**10. What are the advantages of using logging in a program?**"
      ],
      "metadata": {
        "id": "HjBYsuZGO3Yu"
      }
    },
    {
      "cell_type": "markdown",
      "source": [
        "Advantages of logging include:\n",
        "\n",
        "Debugging: It provides a historical record of program execution, which is invaluable for identifying and fixing bugs.\n",
        "\n",
        "Monitoring: Logs can be used to monitor the health and performance of an application in a production environment.\n",
        "\n",
        "Auditing: Logging can provide a trail of events for security audits or compliance checks.\n",
        "\n",
        "Customization: You can control the level of detail and where the logs are stored."
      ],
      "metadata": {
        "id": "KYlTDOgWO8Kw"
      }
    },
    {
      "cell_type": "code",
      "source": [],
      "metadata": {
        "id": "8jt4dnmwPLZB"
      },
      "execution_count": null,
      "outputs": []
    },
    {
      "cell_type": "markdown",
      "source": [
        "**11. What is memory management in Python?**"
      ],
      "metadata": {
        "id": "rZwdMIqUPQnq"
      }
    },
    {
      "cell_type": "markdown",
      "source": [
        "->Memory management in Python is the process of allocating and deallocating memory for objects. Python uses a private heap for this, managed by the Python memory manager. This includes a garbage collection system to automatically reclaim memory from objects that are no longer in use."
      ],
      "metadata": {
        "id": "yQl4P63RPTd4"
      }
    },
    {
      "cell_type": "markdown",
      "source": [
        "**12. What are the basic steps involved in exception handling in Python?**"
      ],
      "metadata": {
        "id": "vTrhvVA7PWfw"
      }
    },
    {
      "cell_type": "markdown",
      "source": [
        "->The basic steps are:\n",
        "\n",
        "try block: Code that might raise an exception is placed here.\n",
        "\n",
        "except block: This block catches and handles a specific exception type if it occurs in the try block.\n",
        "\n",
        "else block (optional): Code that runs only if the try block completes without an exception.\n",
        "\n",
        "finally block (optional): Code that is always executed, regardless of whether an exception occurred.\n",
        "\n"
      ],
      "metadata": {
        "id": "qxK6P9IiPbyv"
      }
    },
    {
      "cell_type": "markdown",
      "source": [
        "**13. Why is memory management important in Python?**"
      ],
      "metadata": {
        "id": "DBiWf0TLPfSu"
      }
    },
    {
      "cell_type": "markdown",
      "source": [
        "->Memory management is crucial for writing efficient and reliable programs. Proper memory management prevents memory leaks, where a program doesn't release memory it no longer needs, and ensures that resources are used effectively, leading to better performance and stability."
      ],
      "metadata": {
        "id": "6fZ7rqzRPrtn"
      }
    },
    {
      "cell_type": "markdown",
      "source": [
        "**14. What is the role of\n",
        "try and except in exception handling?**"
      ],
      "metadata": {
        "id": "Wgj0vKi2PveF"
      }
    },
    {
      "cell_type": "markdown",
      "source": [
        "The try block is where you place the code that you think might raise an exception. The except block is where you write the code to handle the exception if it occurs. Together, they allow the program to continue running even if an error happens."
      ],
      "metadata": {
        "id": "xFfm79NwP0qr"
      }
    },
    {
      "cell_type": "markdown",
      "source": [
        "**15. How does Python's garbage collection system work?**"
      ],
      "metadata": {
        "id": "-U9DZPWvP2gv"
      }
    },
    {
      "cell_type": "markdown",
      "source": [
        "->Python's garbage collection system primarily uses reference counting to track objects. When an object's reference count drops to zero, it is immediately deallocated. For objects with circular references (where they refer to each other but are no longer accessible by the program), Python's garbage collector has a generational cycle detector to find and reclaim them."
      ],
      "metadata": {
        "id": "DIwj4lcqP71n"
      }
    },
    {
      "cell_type": "markdown",
      "source": [
        "**16. What is the purpose of the\n",
        "else block in exception handling?**"
      ],
      "metadata": {
        "id": "LTHcxJ15QGxv"
      }
    },
    {
      "cell_type": "markdown",
      "source": [
        "->The else block is executed only if the try block runs completely without raising an exception. It's useful for placing code that should only run when the try block's operations were successful."
      ],
      "metadata": {
        "id": "IgUWeprjQMeJ"
      }
    },
    {
      "cell_type": "markdown",
      "source": [
        "**17. What are the common logging levels in Python?**"
      ],
      "metadata": {
        "id": "Ug9lQNUDQPgU"
      }
    },
    {
      "cell_type": "markdown",
      "source": [
        "->The common logging levels in Python, in order of increasing severity, are:\n",
        "\n",
        "DEBUG: Detailed information, typically of interest only when diagnosing problems.\n",
        "\n",
        "INFO: Confirmation that things are working as expected.\n",
        "\n",
        "WARNING: An indication that something unexpected happened, or a potential problem in the near future.\n",
        "\n",
        "ERROR: Due to a more serious problem, the software has not been able to perform some function.\n",
        "\n",
        "CRITICAL: A serious error, indicating that the program itself may be unable to continue running."
      ],
      "metadata": {
        "id": "ZEIN0iYmQUYV"
      }
    },
    {
      "cell_type": "markdown",
      "source": [
        "**18. What is the difference between\n",
        "os.fork() and multiprocessing in Python?**"
      ],
      "metadata": {
        "id": "7T_ht4o_QXKF"
      }
    },
    {
      "cell_type": "markdown",
      "source": [
        "->os.fork() creates a new child process that is a copy of the parent process. It's a lower-level function and is only available on Unix-like systems.\n",
        "\n",
        "multiprocessing is a higher-level, cross-platform module that provides a clean API for creating and managing processes, similar to the threading module. It abstracts away the low-level details of process creation."
      ],
      "metadata": {
        "id": "vO5C-jdvQdny"
      }
    },
    {
      "cell_type": "markdown",
      "source": [
        "**19. What is the importance of closing a file in Python?**"
      ],
      "metadata": {
        "id": "-g8GIJBuQg8-"
      }
    },
    {
      "cell_type": "markdown",
      "source": [
        "->It's important to close a file to ensure that all changes are saved and resources are released. If a file is not closed, data might not be written to the disk, and the file handle remains open, which can lead to a resource leak and prevent other programs from accessing the file."
      ],
      "metadata": {
        "id": "IVyhHPDrQlav"
      }
    },
    {
      "cell_type": "markdown",
      "source": [
        "**20. What is the difference between\n",
        "file.read() and file.readline() in Python?**"
      ],
      "metadata": {
        "id": "cL6Q3oqMQog9"
      }
    },
    {
      "cell_type": "markdown",
      "source": [
        "->file.read() reads the entire content of a file into a single string.\n",
        "\n",
        "file.readline() reads one line from the file at a time and returns it as a string."
      ],
      "metadata": {
        "id": "Cmpv4JIWQvHO"
      }
    },
    {
      "cell_type": "markdown",
      "source": [
        "**21. What is the logging module in Python used for?**"
      ],
      "metadata": {
        "id": "PV5DdlZKQ084"
      }
    },
    {
      "cell_type": "markdown",
      "source": [
        "->The logging module is a standard library in Python used to generate log messages. It provides a flexible and powerful framework for recording events, errors, and other information during program execution.\n",
        "\n"
      ],
      "metadata": {
        "id": "CvpPdiLrSIun"
      }
    },
    {
      "cell_type": "markdown",
      "source": [
        "**22. What is the\n",
        "os module in Python used for in file handling?**"
      ],
      "metadata": {
        "id": "4a1os3PbSK0O"
      }
    },
    {
      "cell_type": "markdown",
      "source": [
        "->The os module provides a way to interact with the operating system. In file handling, it's used for tasks like:\n",
        "\n",
        "Checking if a file or directory exists (os.path.exists()).\n",
        "\n",
        "Renaming or deleting files (os.rename(), os.remove()).\n",
        "\n",
        "Getting the current working directory (os.getcwd()).\n",
        "\n",
        "Creating directories (os.mkdir())."
      ],
      "metadata": {
        "id": "M50FJZWpSPCD"
      }
    },
    {
      "cell_type": "markdown",
      "source": [
        "**23. What are the challenges associated with memory management in Python?**"
      ],
      "metadata": {
        "id": "ZgEJNCMGSRob"
      }
    },
    {
      "cell_type": "markdown",
      "source": [
        "->Some challenges include:\n",
        "\n",
        "Circular references: Objects that refer to each other can cause memory leaks if not handled by the garbage collector.\n",
        "\n",
        "High memory usage: Python's objects have some overhead, which can lead to higher memory usage compared to languages like C.\n",
        "\n",
        "Garbage collector overhead: While automatic, the garbage collector can occasionally cause performance pauses when it runs."
      ],
      "metadata": {
        "id": "leph3xKeSU52"
      }
    },
    {
      "cell_type": "markdown",
      "source": [
        "**24. How do you raise an exception manually in Python?**"
      ],
      "metadata": {
        "id": "S9U655RBSXc7"
      }
    },
    {
      "cell_type": "markdown",
      "source": [
        "->You can raise an exception manually using the raise keyword, followed by the exception class and an optional error message."
      ],
      "metadata": {
        "id": "6jVrMjSQSi8K"
      }
    },
    {
      "cell_type": "markdown",
      "source": [
        "**25. Why is it important to use multithreading in certain applications?**"
      ],
      "metadata": {
        "id": "Z08a-IDNSmQJ"
      }
    },
    {
      "cell_type": "markdown",
      "source": [
        "->Multithreading is important for applications that have many I/O-bound tasks, such as network requests, file operations, or user interface interactions. It allows the program to perform other tasks while waiting for these slow operations to complete, preventing the application from becoming unresponsive."
      ],
      "metadata": {
        "id": "rDr4OuF8Sqs6"
      }
    },
    {
      "cell_type": "markdown",
      "source": [
        "                          **Practical Questions**"
      ],
      "metadata": {
        "id": "_nUj0PQ7Suzc"
      }
    },
    {
      "cell_type": "markdown",
      "source": [
        "**1. How can you open a file for writing in Python and write a string to it?**"
      ],
      "metadata": {
        "id": "J01JSdvIS2pd"
      }
    },
    {
      "cell_type": "code",
      "source": [
        "with open('my_file.txt', 'w') as f:\n",
        "    f.write(\"Hello, this is a test string.\\n\")\n",
        "    f.write(\"This is a second line.\")\n",
        "\n",
        "print(\"Content has been written to my_file.txt\")"
      ],
      "metadata": {
        "id": "SWCxxjB2TF7A"
      },
      "execution_count": null,
      "outputs": []
    },
    {
      "cell_type": "markdown",
      "source": [
        "**2. Write a Python program to read the contents of a file and print each line.**"
      ],
      "metadata": {
        "id": "7LYEC85sTHCs"
      }
    },
    {
      "cell_type": "code",
      "source": [
        "with open('sample.txt', 'w') as f:\n",
        "    f.write(\"Line 1\\n\")\n",
        "    f.write(\"Line 2\\n\")\n",
        "    f.write(\"Line 3\\n\")\n",
        "\n",
        "with open('sample.txt', 'r') as f:\n",
        "    for line in f:\n",
        "        print(line.strip())\n"
      ],
      "metadata": {
        "id": "Ps5voUwiTYVJ"
      },
      "execution_count": null,
      "outputs": []
    },
    {
      "cell_type": "markdown",
      "source": [
        "**3. How would you handle a case where the file doesn't exist while trying to open it for reading?**"
      ],
      "metadata": {
        "id": "WvNMPf9kTZMd"
      }
    },
    {
      "cell_type": "code",
      "source": [
        "file_name = 'non_existent_file.txt'\n",
        "\n",
        "try:\n",
        "    with open(file_name, 'r') as f:\n",
        "        print(f.read())\n",
        "except FileNotFoundError:\n",
        "    print(f\"Error: The file '{file_name}' was not found.\")"
      ],
      "metadata": {
        "id": "lUGY5L7_Td4b"
      },
      "execution_count": null,
      "outputs": []
    },
    {
      "cell_type": "markdown",
      "source": [
        "**4. Write a Python script that reads from one file and writes its content to another file**"
      ],
      "metadata": {
        "id": "P_hxTE06TfFO"
      }
    },
    {
      "cell_type": "code",
      "source": [
        "\n",
        "with open('source.txt', 'w') as f:\n",
        "    f.write(\"This is the content from the source file.\")\n",
        "\n",
        "try:\n",
        "    with open('source.txt', 'r') as source_file:\n",
        "        content = source_file.read()\n",
        "\n",
        "    with open('destination.txt', 'w') as dest_file:\n",
        "        dest_file.write(content)\n",
        "\n",
        "    print(\"Content successfully copied from source.txt to destination.txt\")\n",
        "except FileNotFoundError:\n",
        "    print(\"Error: The source file was not found.\")"
      ],
      "metadata": {
        "id": "G1BcC7wyTmbV"
      },
      "execution_count": null,
      "outputs": []
    },
    {
      "cell_type": "markdown",
      "source": [
        "**4. Write a Python script that reads from one file and writes its content to another file.**"
      ],
      "metadata": {
        "id": "nn3PSK7YTpl8"
      }
    },
    {
      "cell_type": "code",
      "source": [
        "\n",
        "with open('source.txt', 'w') as f:\n",
        "    f.write(\"This is the content from the source file.\")\n",
        "\n",
        "\n",
        "try:\n",
        "    with open('source.txt', 'r') as source_file:\n",
        "        content = source_file.read()\n",
        "\n",
        "    with open('destination.txt', 'w') as dest_file:\n",
        "        dest_file.write(content)\n",
        "\n",
        "    print(\"Content successfully copied from source.txt to destination.txt\")\n",
        "except FileNotFoundError:\n",
        "    print(\"Error: The source file was not found.\")"
      ],
      "metadata": {
        "id": "zrk9xHZja-2K"
      },
      "execution_count": null,
      "outputs": []
    },
    {
      "cell_type": "markdown",
      "source": [
        "**5. How would you catch and handle a division by zero error in Python?**"
      ],
      "metadata": {
        "id": "QUv7AjFdTw81"
      }
    },
    {
      "cell_type": "markdown",
      "source": [],
      "metadata": {
        "id": "E5TmGcc8T2vT"
      }
    },
    {
      "cell_type": "code",
      "source": [
        "try:\n",
        "    numerator = 10\n",
        "    denominator = 0\n",
        "    result = numerator / denominator\n",
        "    print(f\"The result is: {result}\")\n",
        "except ZeroDivisionError:\n",
        "    print(\"Error: Cannot divide by zero.\")"
      ],
      "metadata": {
        "id": "xZuKDlSebfti"
      },
      "execution_count": null,
      "outputs": []
    },
    {
      "cell_type": "markdown",
      "source": [
        "**6. Write a Python program that logs an error message to a log file when a division by zero exception occurs.**"
      ],
      "metadata": {
        "id": "1NKmozHmbhvZ"
      }
    },
    {
      "cell_type": "code",
      "source": [
        "import logging\n",
        "\n",
        "\n",
        "logging.basicConfig(filename='app_error.log', level=logging.ERROR,\n",
        "                    format='%(asctime)s - %(levelname)s - %(message)s')\n",
        "\n",
        "try:\n",
        "    numerator = 10\n",
        "    denominator = 0\n",
        "    result = numerator / denominator\n",
        "except ZeroDivisionError as e:\n",
        "    logging.error(f\"A division by zero exception occurred: {e}\")\n",
        "    print(\"An error was logged.\")"
      ],
      "metadata": {
        "id": "9zBGPhw4bnRm"
      },
      "execution_count": null,
      "outputs": []
    },
    {
      "cell_type": "markdown",
      "source": [
        "**7. How do you log information at different levels (INFO, ERROR, WARNING) in Python using the logging module?**"
      ],
      "metadata": {
        "id": "2vVpucPAbpi6"
      }
    },
    {
      "cell_type": "code",
      "source": [
        "import logging\n",
        "\n",
        "logging.basicConfig(level=logging.INFO,\n",
        "                    format='%(asctime)s - %(levelname)s - %(message)s')\n",
        "\n",
        "logging.info(\"This is an informational message.\")\n",
        "logging.warning(\"This is a warning message.\")\n",
        "logging.error(\"This is an error message.\")"
      ],
      "metadata": {
        "id": "sbKBoEeKbx53"
      },
      "execution_count": null,
      "outputs": []
    },
    {
      "cell_type": "markdown",
      "source": [
        "**8. Write a program to handle a file opening error using exception handling.**"
      ],
      "metadata": {
        "id": "j6lDRXojb187"
      }
    },
    {
      "cell_type": "code",
      "source": [
        "file_name = \"nonexistent_file.txt\"\n",
        "\n",
        "try:\n",
        "    with open(file_name, 'r') as file:\n",
        "        print(file.read())\n",
        "except FileNotFoundError:\n",
        "    print(f\"Error: Could not open the file '{file_name}'. It does not exist.\")"
      ],
      "metadata": {
        "id": "iFHTFWtNb3ew"
      },
      "execution_count": null,
      "outputs": []
    },
    {
      "cell_type": "markdown",
      "source": [
        "**9. How can you read a file line by line and store its content in a list in Python?**"
      ],
      "metadata": {
        "id": "lJ5Kzk1ub6Wm"
      }
    },
    {
      "cell_type": "code",
      "source": [
        "\n",
        "with open('list_file.txt', 'w') as f:\n",
        "    f.write(\"Apple\\n\")\n",
        "    f.write(\"Banana\\n\")\n",
        "    f.write(\"Cherry\\n\")\n",
        "\n",
        "lines_list = []\n",
        "with open('list_file.txt', 'r') as f:\n",
        "    for line in f:\n",
        "        lines_list.append(line.strip())\n",
        "\n",
        "print(lines_list)"
      ],
      "metadata": {
        "id": "JLNKypjTb8lV"
      },
      "execution_count": null,
      "outputs": []
    },
    {
      "cell_type": "markdown",
      "source": [
        "**10. How can you append data to an existing file in Python?**"
      ],
      "metadata": {
        "id": "Yt7KFcLVcB34"
      }
    },
    {
      "cell_type": "code",
      "source": [
        "with open('existing_file.txt', 'w') as f:\n",
        "    f.write(\"Initial content.\\n\")\n",
        "\n",
        "with open('existing_file.txt', 'a') as f:\n",
        "    f.write(\"This is new content appended to the file.\\n\")\n",
        "\n",
        "print(\"Data has been appended to existing_file.txt\")"
      ],
      "metadata": {
        "id": "idoNKWa9cMmj"
      },
      "execution_count": null,
      "outputs": []
    },
    {
      "cell_type": "markdown",
      "source": [
        "**11. Write a Python program that uses a\n",
        "try-except block to handle an error when attempting to access a dictionary key that doesn't exist.**"
      ],
      "metadata": {
        "id": "w3FhwzLicDam"
      }
    },
    {
      "cell_type": "code",
      "source": [
        "my_dict = {'a': 1, 'b': 2}\n",
        "\n",
        "try:\n",
        "    print(my_dict['c'])\n",
        "except KeyError:\n",
        "    print(\"Error: The key 'c' does not exist in the dictionary.\")"
      ],
      "metadata": {
        "id": "Lrtx4tjZcVhU"
      },
      "execution_count": null,
      "outputs": []
    },
    {
      "cell_type": "markdown",
      "source": [
        "**12. Write a program that demonstrates using multiple\n",
        "except blocks to handle different types of exceptions.**"
      ],
      "metadata": {
        "id": "iWwIIiT_cZkT"
      }
    },
    {
      "cell_type": "code",
      "source": [
        "try:\n",
        "    result = 10 / 'two'\n",
        "except ZeroDivisionError:\n",
        "    print(\"Caught a ZeroDivisionError.\")\n",
        "except TypeError:\n",
        "    print(\"Caught a TypeError.\")"
      ],
      "metadata": {
        "id": "yUXHQsRIchyw"
      },
      "execution_count": null,
      "outputs": []
    },
    {
      "cell_type": "markdown",
      "source": [
        "**13. How would you check if a file exists before attempting to read it in Python?**"
      ],
      "metadata": {
        "id": "_89LJ0_9clFD"
      }
    },
    {
      "cell_type": "code",
      "source": [
        "import os\n",
        "\n",
        "file_name = 'my_existing_file.txt'\n",
        "\n",
        "with open(file_name, 'w') as f:\n",
        "    f.write(\"File exists.\")\n",
        "\n",
        "if os.path.exists(file_name):\n",
        "    print(f\"The file '{file_name}' exists.\")\n",
        "    with open(file_name, 'r') as f:\n",
        "        print(f.read())\n",
        "else:\n",
        "    print(f\"The file '{file_name}' does not exist.\")"
      ],
      "metadata": {
        "id": "vL8kjiQgcobd"
      },
      "execution_count": null,
      "outputs": []
    },
    {
      "cell_type": "markdown",
      "source": [
        "**14. Write a program that uses the logging module to log both informational and error messages.**"
      ],
      "metadata": {
        "id": "1Sjc_r-BcuQw"
      }
    },
    {
      "cell_type": "code",
      "source": [
        "import logging\n",
        "\n",
        "logging.basicConfig(level=logging.INFO,\n",
        "                    format='%(asctime)s - %(levelname)s - %(message)s')\n",
        "\n",
        "def divide(x, y):\n",
        "    try:\n",
        "        logging.info(f\"Attempting to divide {x} by {y}\")\n",
        "        result = x / y\n",
        "        logging.info(f\"Division successful. Result is {result}\")\n",
        "        return result\n",
        "    except ZeroDivisionError:\n",
        "        logging.error(\"Attempted to divide by zero.\")\n",
        "        return None\n",
        "\n",
        "divide(10, 2)\n",
        "divide(10, 0)"
      ],
      "metadata": {
        "id": "Qs_rZyQ9cx0-"
      },
      "execution_count": null,
      "outputs": []
    },
    {
      "cell_type": "markdown",
      "source": [
        "**15. Write a Python program that prints the content of a file and handles the case when the file is empty.**"
      ],
      "metadata": {
        "id": "TrYRNOu1c1-6"
      }
    },
    {
      "cell_type": "code",
      "source": [
        "\n",
        "with open('empty_file.txt', 'w') as f:\n",
        "    pass\n",
        "\n",
        "try:\n",
        "    with open('empty_file.txt', 'r') as f:\n",
        "        content = f.read()\n",
        "        if not content:\n",
        "            print(\"The file is empty.\")\n",
        "        else:\n",
        "            print(\"File content:\")\n",
        "            print(content)\n",
        "except FileNotFoundError:\n",
        "    print(\"File not found.\")"
      ],
      "metadata": {
        "id": "_urDKroFc1ei"
      },
      "execution_count": null,
      "outputs": []
    },
    {
      "cell_type": "markdown",
      "source": [
        "**16. Demonstrate how to use memory profiling to check the memory usage of a small program.**"
      ],
      "metadata": {
        "id": "SJqXE1TBc9s4"
      }
    },
    {
      "cell_type": "code",
      "source": [
        "from memory_profiler import profile\n",
        "\n",
        "@profile\n",
        "def create_list():\n",
        "    my_list = []\n",
        "    for i in range(1000000):\n",
        "        my_list.append(i)\n",
        "    return my_list\n",
        "\n",
        "if __name__ == '__main__':\n",
        "    my_list = create_list()\n",
        "    print(\"List created.\")"
      ],
      "metadata": {
        "id": "EGsDa9KDc_l3"
      },
      "execution_count": null,
      "outputs": []
    },
    {
      "cell_type": "markdown",
      "source": [
        "**17. Write a Python program to create and write a list of numbers to a file, one number per line.**"
      ],
      "metadata": {
        "id": "kDKE2B8pdFmr"
      }
    },
    {
      "cell_type": "code",
      "source": [
        "numbers = [1, 2, 3, 4, 5]\n",
        "\n",
        "with open('numbers.txt', 'w') as f:\n",
        "    for number in numbers:\n",
        "        f.write(str(number) + '\\n')\n",
        "\n",
        "print(\"Numbers written to numbers.txt\")"
      ],
      "metadata": {
        "id": "azK0a5KRdKAQ"
      },
      "execution_count": null,
      "outputs": []
    },
    {
      "cell_type": "markdown",
      "source": [
        "**18. How would you implement a basic logging setup that logs to a file with rotation after 1MB?**"
      ],
      "metadata": {
        "id": "i6WnsUaYdNyc"
      }
    },
    {
      "cell_type": "code",
      "source": [
        "import logging\n",
        "from logging.handlers import RotatingFileHandler\n",
        "import os\n",
        "\n",
        "log_file = 'rotated_log.log'\n",
        "max_bytes = 1024 * 1024\n",
        "\n",
        "file_handler = RotatingFileHandler(log_file, maxBytes=max_bytes, backupCount=5)\n",
        "\n",
        "logging.basicConfig(\n",
        "    level=logging.INFO,\n",
        "    format='%(asctime)s - %(levelname)s - %(message)s',\n",
        "    handlers=[file_handler]\n",
        ")\n",
        "\n",
        "logging.info(\"This is a log message that will go to the rotated_log.log file.\")\n"
      ],
      "metadata": {
        "id": "vT6f25lkdQQx"
      },
      "execution_count": null,
      "outputs": []
    },
    {
      "cell_type": "markdown",
      "source": [
        "**19. Write a program that handles both\n",
        "IndexError and KeyError using a try-except block.**"
      ],
      "metadata": {
        "id": "mha7SBHMdZ9l"
      }
    },
    {
      "cell_type": "code",
      "source": [
        "my_list = [1, 2, 3]\n",
        "my_dict = {'a': 1}\n",
        "\n",
        "try:\n",
        "\n",
        "    print(my_list[5])\n",
        "\n",
        "    print(my_dict['b'])\n",
        "except (IndexError, KeyError) as e:\n",
        "    print(f\"Caught an exception: {type(e).__name__} - {e}\")"
      ],
      "metadata": {
        "id": "9bXfiRhbddAa"
      },
      "execution_count": null,
      "outputs": []
    },
    {
      "cell_type": "markdown",
      "source": [
        "**20. How would you open a file and read its contents using a context manager in Python?**"
      ],
      "metadata": {
        "id": "b5v_2Dqedh3q"
      }
    },
    {
      "cell_type": "code",
      "source": [
        "\n",
        "with open('context_file.txt', 'w') as f:\n",
        "    f.write(\"Hello from the context manager.\")\n",
        "\n",
        "with open('context_file.txt', 'r') as f:\n",
        "    content = f.read()\n",
        "    print(content)\n"
      ],
      "metadata": {
        "id": "21uRJ28sdkP5"
      },
      "execution_count": null,
      "outputs": []
    },
    {
      "cell_type": "markdown",
      "source": [
        "**21. Write a Python program that reads a file and prints the number of occurrences of a specific word.**"
      ],
      "metadata": {
        "id": "Im5ZLbpgdsWe"
      }
    },
    {
      "cell_type": "code",
      "source": [
        "import re\n",
        "\n",
        "with open('word_count.txt', 'w') as f:\n",
        "    f.write(\"The quick brown fox jumps over the lazy dog. The fox is quick.\")\n",
        "\n",
        "word_to_find = \"fox\"\n",
        "count = 0\n",
        "\n",
        "try:\n",
        "    with open('word_count.txt', 'r') as f:\n",
        "        content = f.read().lower()\n",
        "        count = len(re.findall(r'\\b' + word_to_find.lower() + r'\\b', content))\n",
        "    print(f\"The word '{word_to_find}' appears {count} times.\")\n",
        "except FileNotFoundError:\n",
        "    print(\"File not found.\")"
      ],
      "metadata": {
        "id": "MbILgR-pdu6v"
      },
      "execution_count": null,
      "outputs": []
    },
    {
      "cell_type": "markdown",
      "source": [
        "**22. How can you check if a file is empty before attempting to read its contents?**"
      ],
      "metadata": {
        "id": "bZ2yWJuNd0g_"
      }
    },
    {
      "cell_type": "code",
      "source": [
        "import os\n",
        "\n",
        "# Create an empty file\n",
        "with open('test_empty_file.txt', 'w') as f:\n",
        "    pass\n",
        "\n",
        "file_name = 'test_empty_file.txt'\n",
        "\n",
        "if os.path.exists(file_name):\n",
        "    if os.stat(file_name).st_size == 0:\n",
        "        print(f\"The file '{file_name}' is empty.\")\n",
        "    else:\n",
        "        print(f\"The file '{file_name}' is not empty.\")\n",
        "else:\n",
        "    print(\"File not found.\")"
      ],
      "metadata": {
        "id": "yEBMq7-9d22c"
      },
      "execution_count": null,
      "outputs": []
    },
    {
      "cell_type": "markdown",
      "source": [
        "**23. Write a Python program that writes to a log file when an error occurs during file handling.**"
      ],
      "metadata": {
        "id": "rwL0hGfyd47M"
      }
    },
    {
      "cell_type": "code",
      "source": [
        "import logging\n",
        "\n",
        "logging.basicConfig(filename='file_errors.log', level=logging.ERROR,\n",
        "                    format='%(asctime)s - %(levelname)s - %(message)s')\n",
        "\n",
        "file_name = 'non_existent_file.txt'\n",
        "\n",
        "try:\n",
        "    with open(file_name, 'r') as f:\n",
        "        f.read()\n",
        "except FileNotFoundError as e:\n",
        "    logging.error(f\"Failed to open the file '{file_name}': {e}\")\n",
        "    print(\"An error was logged to file_errors.log\")"
      ],
      "metadata": {
        "id": "aQU71Jqnd-qB"
      },
      "execution_count": null,
      "outputs": []
    }
  ]
}