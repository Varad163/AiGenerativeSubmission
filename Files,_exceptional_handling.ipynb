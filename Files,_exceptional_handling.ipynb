{
  "nbformat": 4,
  "nbformat_minor": 0,
  "metadata": {
    "colab": {
      "provenance": []
    },
    "kernelspec": {
      "name": "python3",
      "display_name": "Python 3"
    },
    "language_info": {
      "name": "python"
    }
  },
  "cells": [
    {
      "cell_type": "markdown",
      "source": [
        "# Files, exceptional handling,logging and memory management"
      ],
      "metadata": {
        "id": "bSmdTr-RHIEC"
      }
    },
    {
      "cell_type": "markdown",
      "source": [
        "## Theory Questions"
      ],
      "metadata": {
        "id": "POR4BSH7HRvI"
      }
    },
    {
      "cell_type": "markdown",
      "source": [
        "1. What is the difference between interpreted and compiled languages?\n",
        "- interpreted languages are those languages which executes the code line by line in runtime. While python being an interpreted language converts the line code in byte code and then it executes it.This is slow process.Ex.python,Java\n",
        "- In Compiled languagees all the code is firstly gets compiled into binary code and then it gets executed.THis is fast process.Ex.C,C++\n",
        "\n",
        "2. What is exception handling in Python?\n",
        "- Exception handling is the process of identifying and managing the errors which are causing the code to disconnect or occurance some other errors efficiently.\n",
        "- Ex.Typeerror,division by zero error, etc\n",
        "\n",
        "3. What is the purpose of the finally block in exception handling?\n",
        "- Finally block is the space for code with the specificity that it always gets executed independent of weather execetion exits or not.\n",
        "\n",
        "4. What is logging in Python?\n",
        "- Logging in python is the process of storing some information about errors,warnings or some other messsages in a file or say tracking of events.Logging helps in managing and debugging the code efficiently.\n",
        "\n",
        "5.  What is the significance of the __del__ method in Python?\n",
        "- __ del __ is a dunder method and it is used to completely delet objects in python.__del__ keyword overrides the the __ del __ method.\n",
        "\n",
        "6. What is the difference between import and from ... import in Python?\n",
        "- import is used for importing eisted modules in python itself.But whenever we need to import modules from libraries or some packages then then we use from library_name import module_name.\n",
        "\n",
        "7.  How can you handle multiple exceptions in Python?\n",
        "- For handling multiple exception we can use try and except block with multiple except blocks or passing tuple or errors in except block..Otherwise just using base class Exception which covers all the exception will also work.\n",
        "\n",
        "8.  What is the purpose of the with statement when handling files in Python?\n",
        "- Using with statements has a benefit that after using with we dont have to mannualy close the file which we opens thus with statement ensures that the file is closing correctly.\n",
        "\n",
        "9.  What is the difference between multithreading and multiprocessing?\n",
        "- multithreading is a process of dividing a program into different units and then executing the one threads at a time and jumping from one thread to another while process.It is recommended for i/o coditions.\n",
        "- While multiprocessing is the process where different programs run parallely.It is recommended where lot of computation requirnment is.\n",
        "\n",
        "10. What are the advantages of using logging in a program?\n",
        "- 1. We can segregate the messages depending on levels like warning,debug,info,error...\n",
        "- 2. The messages get saved into the file which makes easy to debug or do further changes\n",
        "- 3. We can also save this messages assigning respective context like Timestamp,line number,level..\n",
        "\n",
        "11. What is memory management in Python?\n",
        "- memory mangement is the process and technique which python executes to clean up unnecessory data or variables in  the code.\n",
        "\n",
        "12.  What are the basic steps involved in exception handling in Python?\n",
        "- 1. We put the risky code inside try block.\n",
        "- 2. We then use except block passing some errors we except and doing some task if some error founds.\n",
        "- 3. We use else block which gets executed if try block runs successfully.\n",
        "- 4. Last we use finally block that whcich always gets executed irrespective of error found or not.\n",
        "\n",
        "13. Why is memory management important in Python?\n",
        "####- I will try to answer that but for your knowledge memory management has not taught in the recorded class.\n",
        "- Memory management enhances the usage of memory thus saving RAM.\n",
        "- It improves programm performance my removing unnessory data which would consume time and energy.\n",
        "\n",
        "14. What is the role of try and except in exception handling?\n",
        "- The try block runs risky code. If an error occurs, Python jumps to the except block to handle it. This prevents program crashes and allows controlled execution.\n",
        "\n",
        "15.  How does Python's garbage collection system work?\n",
        "#### - Again It is not taught in the recordings.\n",
        "\n",
        "16.  What is the purpose of the else block in exception handling?\n",
        "- The purpose of else block is that if we want to execute something or perform a tsk if try code or the risky code runs succesfully without any error then whateever statements written in the else block gets executed.\n",
        "\n",
        "17. What are the common logging levels in Python?\n",
        "- There are heirarchy of the levels 1.Debug ,2.Info, 3.Warning ,4.Error ,5.Critical. The prirotize will be we high for critical and lowest to debug.\n",
        "\n",
        "18. What is the difference between os.fork() and multiprocessing in Python?\n",
        "#### - os.fork() has not naught taught in the class Multiprocessing is.\n",
        "- multiprocessing is a high-level module in Python to create independent processes for parallel execution\n",
        "\n",
        "19. What is the importance of closing a file in Python?\n",
        "- If we didnt close the file it doesent gets saved also there are chances of data loss,curruption, some mistakes that leads to changing the data containing in the file, thus to avoid this we should close the file whenever we are done with working on that file.\n",
        "\n",
        "20.  What is the difference between file.read() and file.readline() in Python?\n",
        "- file.read() reads all the data in the file starting from the cursor where it is. zon the other hand file.readline() only reads that perticular line which starts from one \\n to next \\n.\n",
        "\n",
        "21. What is the logging module in Python used for?\n",
        "- Logging module is used for logging the messages in the file not only that it helps sagregating the messeges with there levels ,timestamps,lines etc ensuring smooth debugging.\n",
        "\n",
        "22.  What is the os module in Python used for in file handling?\n",
        "- os module contains the functionalities with which we can operate with the operating system using our python block of codes. In file handling this is useful for accessing ,storing files in the directories.\n",
        "\n",
        "23.  What are the challenges associated with memory management in Python?\n",
        "### - Again Dont know ,I request you to ask for the team to uploading recordings of it.\n",
        "\n",
        "24.  How do you raise an exception manually in Python?\n",
        "- There is a base class called Execption in python so we can simply make our own inhertied class from exception . After that using constructor we can give desired values, after that whenever we want we have to just use statement raise My_custom_error_class(arg) with providing some arguments.then it will raise an exception.\n",
        "- Ex. class MyError(Exception):\n",
        "    pass\n",
        "raise MyError(\"Custom error triggered\")\n",
        "\n",
        "25. Why is it important to use multithreading in certain applications?\n",
        "- There are various applications which demand or requires some free time (not computional time) like time going in asking for the input ,in these ase multithreating is very beneficial as it moves on to different thread for the time being executing that , so this process helps time a lot in case of large data and executions."
      ],
      "metadata": {
        "id": "7-wKFXuXHXr0"
      }
    },
    {
      "cell_type": "markdown",
      "source": [
        "## Practical Questions\n"
      ],
      "metadata": {
        "id": "t2Tj4rQ9sp8X"
      }
    },
    {
      "cell_type": "code",
      "source": [
        "# 1. How can you open a file for writing in Python and write a string to it?\n",
        "\n",
        "file1= open('file.txt','w')\n",
        "file1.write('This is passed string.\\nThis is the second line of the paragraph')\n",
        "file1.close()\n",
        "file1=open('file.txt','r')\n",
        "print(file1.read()) # Print the content after reading\n",
        "file1.close()"
      ],
      "metadata": {
        "colab": {
          "base_uri": "https://localhost:8080/"
        },
        "id": "3DvcOEcBst0J",
        "outputId": "e9da1c5f-d9d1-43f0-ba75-cfdb63e2c232"
      },
      "execution_count": 1,
      "outputs": [
        {
          "output_type": "stream",
          "name": "stdout",
          "text": [
            "This is passed string.\n",
            "This is the second line of the paragraph\n"
          ]
        }
      ]
    },
    {
      "cell_type": "code",
      "source": [
        "# 2. Write a Python program to read the contents of a file and print each line\n",
        "\n",
        "file=open('file.txt','r')\n",
        "for line in file:\n",
        "  print(line)\n",
        "file.close()"
      ],
      "metadata": {
        "colab": {
          "base_uri": "https://localhost:8080/"
        },
        "id": "lvqsPntbuZw4",
        "outputId": "d8a6133c-08f7-4abd-81cd-25705c5c4b7a"
      },
      "execution_count": 2,
      "outputs": [
        {
          "output_type": "stream",
          "name": "stdout",
          "text": [
            "This is passed string.\n",
            "\n",
            "This is the second line of the paragraph\n"
          ]
        }
      ]
    },
    {
      "cell_type": "code",
      "source": [
        "# 3.How would you handle a case where the file doesn't exist while trying to open it for reading\n",
        "\n",
        "try :\n",
        "  open('newfile','r')\n",
        "except FileNotFoundError as f:\n",
        "  print(f'{f} file doesnt exists please create it first')\n"
      ],
      "metadata": {
        "colab": {
          "base_uri": "https://localhost:8080/"
        },
        "id": "MSUGE0rwvACZ",
        "outputId": "a342d77f-5a54-4d5d-dc2d-a9dbfa62f717"
      },
      "execution_count": 3,
      "outputs": [
        {
          "output_type": "stream",
          "name": "stdout",
          "text": [
            "[Errno 2] No such file or directory: 'newfile' file doesnt exists please create it first\n"
          ]
        }
      ]
    },
    {
      "cell_type": "code",
      "source": [
        "# 4. Write a Python script that reads from one file and writes its content to another file\n",
        "\n",
        "file2=open('file2.txt','w')\n",
        "file1=open('file.txt','r')\n",
        "file2.write(file1.read())\n",
        "file2.close()\n",
        "file2=open('file2.txt','r')\n",
        "print(file2.read())\n",
        "file2.close()"
      ],
      "metadata": {
        "colab": {
          "base_uri": "https://localhost:8080/"
        },
        "id": "vOYEDIoMwrq1",
        "outputId": "74eca51e-2993-423f-bc30-155f57bbe2a4"
      },
      "execution_count": 4,
      "outputs": [
        {
          "output_type": "stream",
          "name": "stdout",
          "text": [
            "This is passed string.\n",
            "This is the second line of the paragraph\n"
          ]
        }
      ]
    },
    {
      "cell_type": "code",
      "source": [
        "# 5. How would you catch and handle division by zero error in Python\n",
        "\n",
        "try :\n",
        "  2/0\n",
        "except ZeroDivisionError as z:\n",
        "  print(f'This is {z} error.Please correct your code')"
      ],
      "metadata": {
        "colab": {
          "base_uri": "https://localhost:8080/"
        },
        "id": "LvG4qjOowsOb",
        "outputId": "0e5786df-5ea9-4356-a247-a3c887bc05f2"
      },
      "execution_count": 5,
      "outputs": [
        {
          "output_type": "stream",
          "name": "stdout",
          "text": [
            "This is division by zero error.Please correct your code\n"
          ]
        }
      ]
    },
    {
      "cell_type": "code",
      "source": [
        "# 6. Write a Python program that logs an error message to a log file when a division by zero exception occurs\n",
        "\n",
        "import logging\n",
        "\n",
        "logging.basicConfig(filename='file3.log',level=logging.DEBUG)\n",
        "\n",
        "try: 2/0\n",
        "except ZeroDivisionError as z:\n",
        "  logging.error(f'This is a {z} error. Fix it')\n"
      ],
      "metadata": {
        "id": "BhhCrdJo3nmB"
      },
      "execution_count": 25,
      "outputs": []
    },
    {
      "cell_type": "code",
      "source": [
        "# 7.How do you log information at different levels (INFO, ERROR, WARNING) in Python using the logging module\n",
        "\n",
        "logging.info('This is info')\n",
        "logging.error('This is error')\n",
        "logging.warning('This is warning')\n"
      ],
      "metadata": {
        "id": "Wdn_JMX33qCm"
      },
      "execution_count": 26,
      "outputs": []
    },
    {
      "cell_type": "code",
      "source": [
        "# 8. Write a program to handle a file opening error using exception handling\n",
        "\n",
        "try :\n",
        "  open('file','rw')\n",
        "except FileNotFoundError as f:\n",
        "  print(f'You got an error: {f}')\n",
        "except PermissionError as p:\n",
        "  print(f'You got an error: {p}')\n",
        "except Exception as e:\n",
        "  print(f'You got an unexpected error :{e}')"
      ],
      "metadata": {
        "colab": {
          "base_uri": "https://localhost:8080/"
        },
        "id": "gGTI2MrQ6Rtt",
        "outputId": "734eb190-b1c9-443e-a6d4-498b6d851415"
      },
      "execution_count": 8,
      "outputs": [
        {
          "output_type": "stream",
          "name": "stdout",
          "text": [
            "You got an unexpected error :must have exactly one of create/read/write/append mode\n"
          ]
        }
      ]
    },
    {
      "cell_type": "code",
      "source": [
        "# 9. How can you read a file line by line and store its content in a list in Python?\n",
        "\n",
        "file=open('file.txt','r')\n",
        "lines=file.readlines()\n",
        "print(lines)\n",
        "file.close()"
      ],
      "metadata": {
        "colab": {
          "base_uri": "https://localhost:8080/"
        },
        "id": "dGE5zitiBNJ3",
        "outputId": "acf5e3b6-8f33-40fe-e342-091c2be2a854"
      },
      "execution_count": 9,
      "outputs": [
        {
          "output_type": "stream",
          "name": "stdout",
          "text": [
            "['This is passed string.\\n', 'This is the second line of the paragraph']\n"
          ]
        }
      ]
    },
    {
      "cell_type": "code",
      "source": [
        "# 10. How can you append data to an existing file in Python\n",
        "\n",
        "file=open('file.txt','a')\n",
        "file.write('\\nThis is appended line')\n",
        "file.close()\n",
        "file=open('file.txt','r')\n",
        "print(file.read())"
      ],
      "metadata": {
        "colab": {
          "base_uri": "https://localhost:8080/"
        },
        "id": "9G0DSzvmC3iH",
        "outputId": "4fbc2d0c-33d7-434a-d072-4209a1557ddc"
      },
      "execution_count": 10,
      "outputs": [
        {
          "output_type": "stream",
          "name": "stdout",
          "text": [
            "This is passed string.\n",
            "This is the second line of the paragraph\n",
            "This is appended line\n"
          ]
        }
      ]
    },
    {
      "cell_type": "code",
      "source": [
        "# 11. Write a Python program that uses a try-except block to handle an error when attempting to access a dictionary key that doesn't exist\n",
        "\n",
        "try:\n",
        "  _dict={'a':1,'b':2,'c':3}\n",
        "  _dict['d']\n",
        "except KeyError as k:\n",
        "  print(f'Therre is an keyerror, {k} dosent exist ,resolve it')"
      ],
      "metadata": {
        "id": "ykAyhiojItSx",
        "colab": {
          "base_uri": "https://localhost:8080/"
        },
        "outputId": "c6b0ab46-4b4f-41e0-9e3a-878d9e6d3dc9"
      },
      "execution_count": 11,
      "outputs": [
        {
          "output_type": "stream",
          "name": "stdout",
          "text": [
            "Therre is an keyerror, 'd' dosent exist ,resolve it\n"
          ]
        }
      ]
    },
    {
      "cell_type": "code",
      "source": [
        "# 12. Write a program that demonstrates using multiple except blocks to handle different types of exceptions\n",
        "\n",
        "try:\n",
        "  a=2/0\n",
        "except ZeroDivisionError as z:\n",
        "  print(f'There is an error {z}, resolve it')\n",
        "except FileNotFoundError as f:\n",
        "  print(f'There is an error {f}, resolve it')"
      ],
      "metadata": {
        "colab": {
          "base_uri": "https://localhost:8080/"
        },
        "id": "KaT1bOTaM766",
        "outputId": "b2ca018b-177e-43e4-9be0-db3e25d2eb90"
      },
      "execution_count": 12,
      "outputs": [
        {
          "output_type": "stream",
          "name": "stdout",
          "text": [
            "There is an error division by zero, resolve it\n"
          ]
        }
      ]
    },
    {
      "cell_type": "code",
      "source": [
        "# 13. How would you check if a file exists before attempting to read it in Python\n",
        "\n",
        "import os\n",
        "file_path='file.txt'\n",
        "print(os.path.exists(file_path))"
      ],
      "metadata": {
        "colab": {
          "base_uri": "https://localhost:8080/"
        },
        "id": "qRIedvRVNMc8",
        "outputId": "ad108768-474f-42ef-e06a-2cb06bea61bb"
      },
      "execution_count": 13,
      "outputs": [
        {
          "output_type": "stream",
          "name": "stdout",
          "text": [
            "True\n"
          ]
        }
      ]
    },
    {
      "cell_type": "code",
      "source": [
        "# 14.  Write a program that uses the logging module to log both informational and error messages\n",
        "\n",
        "import logging\n",
        "#basicConfig has done in previous cell\n",
        "logging.error('This is an error message')\n",
        "logging.info('This is an informational message')"
      ],
      "metadata": {
        "id": "9TzQ6Ti6OLyZ"
      },
      "execution_count": 14,
      "outputs": []
    },
    {
      "cell_type": "code",
      "source": [
        "# 15. Write a Python program that prints the content of a file and handles the case when the file is empty\n",
        "\n",
        "with open('filenew.txt','w') as f:\n",
        "  f.write('')\n",
        "with open('filenew.txt','r') as f:\n",
        "  content = f.read().strip()\n",
        "  if content:\n",
        "        print(content)\n",
        "  else:\n",
        "    print('file is empty')"
      ],
      "metadata": {
        "colab": {
          "base_uri": "https://localhost:8080/"
        },
        "id": "QrTgogAqQ909",
        "outputId": "b64b17c5-a2b9-4fd0-d672-1cff0c8f3241"
      },
      "execution_count": 27,
      "outputs": [
        {
          "output_type": "stream",
          "name": "stdout",
          "text": [
            "file is empty\n"
          ]
        }
      ]
    },
    {
      "cell_type": "code",
      "source": [
        "# 16. Demonstrate how to use memory profiling to check the memory usage of a small program\n",
        "# NOT COVERED IN THE RECORDING CLASSES"
      ],
      "metadata": {
        "id": "e8vAqs6UbJHe"
      },
      "execution_count": 16,
      "outputs": []
    },
    {
      "cell_type": "code",
      "source": [
        "# 17. Write a Python program to create and write a list of numbers to a file, one number per line\n",
        "\n",
        "with open('_file.txt','w') as f:\n",
        "  for i in [1,2,3,4,5,6,7]:\n",
        "    f.write('{}\\n'.format(i) )\n",
        "with open('_file.txt','r') as f:\n",
        "  print(f.read())"
      ],
      "metadata": {
        "colab": {
          "base_uri": "https://localhost:8080/"
        },
        "id": "Q5JH0uOPccwI",
        "outputId": "a646216d-7d11-4525-9512-96c29ff13ec9"
      },
      "execution_count": 17,
      "outputs": [
        {
          "output_type": "stream",
          "name": "stdout",
          "text": [
            "1\n",
            "2\n",
            "3\n",
            "4\n",
            "5\n",
            "6\n",
            "7\n",
            "\n"
          ]
        }
      ]
    },
    {
      "cell_type": "code",
      "source": [
        "# 18. How would you implement a basic logging setup that logs to a file with rotation after 1MB\n",
        "import logging\n",
        "from logging.handlers import RotatingFileHandler\n",
        "\n",
        "logger = logging.getLogger('my_logger')\n",
        "logger.setLevel(logging.DEBUG)\n",
        "\n",
        "rotating_handler = RotatingFileHandler(\n",
        "    'my_log.log',\n",
        "    maxBytes=1_000_000,\n",
        "    backupCount=3\n",
        ")\n",
        "logger.addHandler(rotating_handler)\n",
        "logger.info(\"This is log message number\")"
      ],
      "metadata": {
        "id": "JudbjzDnTbLp"
      },
      "execution_count": 18,
      "outputs": []
    },
    {
      "cell_type": "code",
      "source": [
        "# 19. Write a program that handles both IndexError and KeyError using a try-except block?\n",
        "\n",
        "try:\n",
        "  _dict={'a':1,'b':2,'c':3}\n",
        "  _dict['d']\n",
        "except (IndexError,KeyError) as e:\n",
        "  print(f'This error is: {e}')\n"
      ],
      "metadata": {
        "colab": {
          "base_uri": "https://localhost:8080/"
        },
        "id": "45VfT1GOFzY2",
        "outputId": "bf3b4e10-a543-49d9-dad6-749901072f43"
      },
      "execution_count": 19,
      "outputs": [
        {
          "output_type": "stream",
          "name": "stdout",
          "text": [
            "This error is: 'd'\n"
          ]
        }
      ]
    },
    {
      "cell_type": "code",
      "source": [
        "# 20. How would you open a file and read its contents using a context manager in Python\n",
        "\n",
        "with open('file.txt','r') as f:\n",
        "  print(f.read())"
      ],
      "metadata": {
        "colab": {
          "base_uri": "https://localhost:8080/"
        },
        "id": "69q1OfZXGCmJ",
        "outputId": "364c725b-736e-4a31-ee27-592d9fc5cd45"
      },
      "execution_count": 20,
      "outputs": [
        {
          "output_type": "stream",
          "name": "stdout",
          "text": [
            "This is passed string.\n",
            "This is the second line of the paragraph\n",
            "This is appended line\n"
          ]
        }
      ]
    },
    {
      "cell_type": "code",
      "source": [
        "# 21.Write a Python program that reads a file and prints the number of occurrences of a specific word\n",
        "\n",
        "with open('file.txt','r') as f:\n",
        "  print(f.read().count('This'))"
      ],
      "metadata": {
        "colab": {
          "base_uri": "https://localhost:8080/"
        },
        "id": "JU3pZF5kGKfo",
        "outputId": "31834ec7-194e-447a-f8ef-8bd6b756b849"
      },
      "execution_count": 21,
      "outputs": [
        {
          "output_type": "stream",
          "name": "stdout",
          "text": [
            "3\n"
          ]
        }
      ]
    },
    {
      "cell_type": "code",
      "source": [
        "# 22. How can you check if a file is empty before attempting to read its contents\n",
        "\n",
        "with open('filenew.txt','w') as f:\n",
        "  f.write('')\n",
        "\n",
        "import os\n",
        "\n",
        "if os.stat('filenew.txt').st_size==0:\n",
        "  print('file is empty')"
      ],
      "metadata": {
        "colab": {
          "base_uri": "https://localhost:8080/"
        },
        "id": "RvHjSTGM2r-U",
        "outputId": "63e6fc13-4bd0-4902-fff4-8c35b1dca523"
      },
      "execution_count": 22,
      "outputs": [
        {
          "output_type": "stream",
          "name": "stdout",
          "text": [
            "file is empty\n"
          ]
        }
      ]
    },
    {
      "cell_type": "code",
      "source": [
        "# 23. Write a Python program that writes to a log file when an error occurs during file handling\n",
        "\n",
        "try:\n",
        "    with open('file_.txt', 'r') as f:\n",
        "        print(f.read())\n",
        "\n",
        "except FileNotFoundError as f:\n",
        "    logging.error(f\"File not found: {f}\")\n",
        "\n",
        "except Exception as e:\n",
        "    logging.error(f\"An unexpected error occurred: {e}\")"
      ],
      "metadata": {
        "id": "qJ5pstqx5UQB"
      },
      "execution_count": 23,
      "outputs": []
    }
  ]
}